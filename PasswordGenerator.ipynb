{
 "cells": [
  {
   "cell_type": "code",
   "execution_count": 1,
   "id": "a35c7c75-5560-459d-b9a5-61a1ca345186",
   "metadata": {},
   "outputs": [],
   "source": [
    "#password checker"
   ]
  },
  {
   "cell_type": "code",
   "execution_count": 3,
   "id": "4fc4eac7-d8fc-498a-af68-296bc6009176",
   "metadata": {},
   "outputs": [],
   "source": [
    "password='hiello'"
   ]
  },
  {
   "cell_type": "code",
   "execution_count": 10,
   "id": "bc5be6d6-e0bf-468f-a427-da52d362759f",
   "metadata": {},
   "outputs": [
    {
     "data": {
      "text/plain": [
       "False"
      ]
     },
     "execution_count": 10,
     "metadata": {},
     "output_type": "execute_result"
    }
   ],
   "source": [
    "password.isupper()"
   ]
  },
  {
   "cell_type": "code",
   "execution_count": 14,
   "id": "59d5508b-352a-4c1f-bbf5-7b6b7467fcf4",
   "metadata": {},
   "outputs": [
    {
     "name": "stdout",
     "output_type": "stream",
     "text": [
      "[False, False, False, False, False, False]\n"
     ]
    }
   ],
   "source": [
    "lis=[]\n",
    "for x in password:\n",
    "    lis.append(x.isupper())\n",
    "print(lis)"
   ]
  },
  {
   "cell_type": "code",
   "execution_count": 16,
   "id": "01486efc-6856-4e6f-80e5-9c627867b66e",
   "metadata": {},
   "outputs": [
    {
     "name": "stdout",
     "output_type": "stream",
     "text": [
      "nothing\n",
      "nothing\n",
      "nothing\n",
      "nothing\n",
      "nothing\n",
      "nothing\n"
     ]
    }
   ],
   "source": [
    "for x in lis:\n",
    "    if lis[x]==True:\n",
    "        print('need to add an upper case')\n",
    "    else:\n",
    "        print('nothing')"
   ]
  },
  {
   "cell_type": "code",
   "execution_count": 18,
   "id": "2e99d9af-9a65-4d64-b538-a2650bfe2375",
   "metadata": {},
   "outputs": [],
   "source": [
    "import re"
   ]
  },
  {
   "cell_type": "code",
   "execution_count": 20,
   "id": "413d008a-dc1f-46c1-b3ec-4e1bd85cbf0e",
   "metadata": {},
   "outputs": [
    {
     "data": {
      "text/plain": [
       "[]"
      ]
     },
     "execution_count": 20,
     "metadata": {},
     "output_type": "execute_result"
    }
   ],
   "source": [
    "re.findall(password,'h')"
   ]
  },
  {
   "cell_type": "code",
   "execution_count": 23,
   "id": "668855a1-7174-4162-811f-22ef76fd85be",
   "metadata": {},
   "outputs": [
    {
     "name": "stdin",
     "output_type": "stream",
     "text": [
      "Enter string to test:  Himyname123#\n"
     ]
    },
    {
     "name": "stdout",
     "output_type": "stream",
     "text": [
      "Valid password\n"
     ]
    }
   ],
   "source": [
    "import re\n",
    "pattern = \"^.*(?=.{8,})(?=.*\\d)(?=.*[a-z])(?=.*[A-Z])(?=.*[@#$%^&+=]).*$\"\n",
    "password = input(\"Enter string to test: \")\n",
    "result = re.findall(pattern, password)\n",
    "if (result):\n",
    "    print(\"Valid password\")\n",
    "else:\n",
    "    print(\"Password not valid\")\n",
    "\n",
    "#stack overflow answer"
   ]
  },
  {
   "cell_type": "markdown",
   "id": "fc69745d-6398-4506-bbb9-8428fad24cb8",
   "metadata": {},
   "source": [
    "### Password generator"
   ]
  },
  {
   "cell_type": "code",
   "execution_count": 24,
   "id": "9df0a4c1-1f0b-499e-870c-cfa9b3cd9bba",
   "metadata": {},
   "outputs": [],
   "source": [
    "import random"
   ]
  },
  {
   "cell_type": "code",
   "execution_count": 25,
   "id": "16041308-e5d1-4c1f-a95f-1073a473bec4",
   "metadata": {},
   "outputs": [],
   "source": [
    "import string"
   ]
  },
  {
   "cell_type": "code",
   "execution_count": 79,
   "id": "4dd1801e-1f9d-4e10-90df-8db03f3ff12a",
   "metadata": {},
   "outputs": [
    {
     "name": "stdout",
     "output_type": "stream",
     "text": [
      "1:words in password \n",
      " 2:num in password  \n",
      " 3:characters in password \n",
      " 4:Exit\n"
     ]
    },
    {
     "name": "stdin",
     "output_type": "stream",
     "text": [
      "what do you want in your password press the numbers with spaces in between! 1 2 4\n"
     ]
    }
   ],
   "source": [
    "class PassGen:\n",
    "    def __init__(self):\n",
    "        pass\n",
    "\n",
    "    #work=print('what is your choice') \n",
    "    choices=print('1:words in password \\n 2:num in password  \\n 3:characters in password \\n 4:Exit')\n",
    "    try:\n",
    "            answer=input('what do you want in your password press the numbers with spaces in between!')\n",
    "            li=[answer]\n",
    "            an=[]\n",
    "            for x in li[0]:\n",
    "               if x !=' ': \n",
    "                an.append(int(x))\n",
    "            ch1=1 in an\n",
    "            ch2=2 in an\n",
    "            ch3=3 in an\n",
    "            ch4=4 in an\n",
    "            charcter_list=''\n",
    "            if ch1==True:\n",
    "                charcter_list +=string.ascii_letters\n",
    "            elif ch2==True:\n",
    "                charcter_list +=string.digits\n",
    "            elif ch3==True:\n",
    "                charcter_list +=string.punctuation\n",
    "            else:\n",
    "                print('try again!')\n",
    "            password=[]\n",
    "            rand_pass=random.choice(charcter_list)\n",
    "            password.append(rand_pass)\n",
    "    except:\n",
    "        pass"
   ]
  },
  {
   "cell_type": "code",
   "execution_count": 29,
   "id": "c14c43e0-0f93-479d-a33a-cd12abf3335e",
   "metadata": {},
   "outputs": [],
   "source": [
    "ran=string.ascii_letters"
   ]
  },
  {
   "cell_type": "code",
   "execution_count": 50,
   "id": "30bb2672-60ed-45ea-b9c4-272733b3aac8",
   "metadata": {},
   "outputs": [],
   "source": [
    "#to shuffle strings"
   ]
  },
  {
   "cell_type": "code",
   "execution_count": 51,
   "id": "93cbcc21-da41-427f-bdf3-449a39befb6c",
   "metadata": {},
   "outputs": [
    {
     "name": "stdout",
     "output_type": "stream",
     "text": [
      "[1, 2, 3]\n"
     ]
    }
   ],
   "source": [
    "li=[]\n",
    "num='1 2 3'\n",
    "for x in num:\n",
    "   if x !=' ': \n",
    "    li.append(int(x))\n",
    "\n",
    "print(li)\n",
    "##li.\n",
    "#print(li)"
   ]
  },
  {
   "cell_type": "code",
   "execution_count": 63,
   "id": "3fb663fa-a19e-4664-93b8-19ae00968df4",
   "metadata": {},
   "outputs": [],
   "source": [
    "boo=1 in li"
   ]
  },
  {
   "cell_type": "code",
   "execution_count": 64,
   "id": "50814ba9-78ba-41b0-b696-5c0b9c99e51f",
   "metadata": {},
   "outputs": [
    {
     "name": "stdout",
     "output_type": "stream",
     "text": [
      "less go\n"
     ]
    }
   ],
   "source": [
    "if boo ==True:\n",
    "    print('less go')"
   ]
  },
  {
   "cell_type": "code",
   "execution_count": 65,
   "id": "1731e544-0583-4be7-b232-1664d37eb787",
   "metadata": {},
   "outputs": [
    {
     "data": {
      "text/plain": [
       "'0123456789'"
      ]
     },
     "execution_count": 65,
     "metadata": {},
     "output_type": "execute_result"
    }
   ],
   "source": [
    "string.digits"
   ]
  },
  {
   "cell_type": "code",
   "execution_count": 70,
   "id": "24cbed39-d93d-486c-9928-ff5a252b5fd7",
   "metadata": {},
   "outputs": [
    {
     "name": "stdin",
     "output_type": "stream",
     "text": [
      "what do you want in your password press the numbers with spaces in between! 1 2 4\n"
     ]
    }
   ],
   "source": [
    "answer=input('what do you want in your password press the numbers with spaces in between!')\n",
    "li=[answer]"
   ]
  },
  {
   "cell_type": "code",
   "execution_count": 77,
   "id": "b50e2fae-4d25-43c0-a5d6-83a83f11aa0f",
   "metadata": {},
   "outputs": [],
   "source": [
    "an=[]\n",
    "for x in li[0]:\n",
    "   if x !=' ': \n",
    "    an.append(int(x))"
   ]
  },
  {
   "cell_type": "code",
   "execution_count": 78,
   "id": "1ff20aff-cd1b-4fc4-9ab7-ab4cc677b348",
   "metadata": {},
   "outputs": [
    {
     "data": {
      "text/plain": [
       "[1, 2, 4]"
      ]
     },
     "execution_count": 78,
     "metadata": {},
     "output_type": "execute_result"
    }
   ],
   "source": [
    "an"
   ]
  },
  {
   "cell_type": "code",
   "execution_count": 1,
   "id": "8544ce8b-9333-4609-b039-b925fd2fe959",
   "metadata": {},
   "outputs": [
    {
     "name": "stdin",
     "output_type": "stream",
     "text": [
      "Enter password length:  5\n"
     ]
    },
    {
     "name": "stdout",
     "output_type": "stream",
     "text": [
      "Choose character set for password from these : \n",
      "         1. Digits\n",
      "         2. Letters\n",
      "         3. Special characters\n",
      "         4. Exit\n"
     ]
    },
    {
     "name": "stdin",
     "output_type": "stream",
     "text": [
      "Pick a number  1\n",
      "Pick a number  13\n"
     ]
    },
    {
     "name": "stdout",
     "output_type": "stream",
     "text": [
      "Please pick a valid option!\n"
     ]
    },
    {
     "name": "stdin",
     "output_type": "stream",
     "text": [
      "Pick a number  2\n",
      "Pick a number  3\n",
      "Pick a number  4\n"
     ]
    },
    {
     "name": "stdout",
     "output_type": "stream",
     "text": [
      "The random password is ARb)O\n"
     ]
    }
   ],
   "source": [
    "import string\n",
    "import random\n",
    " \n",
    "# Getting password length\n",
    "length = int(input(\"Enter password length: \"))\n",
    " \n",
    "print('''Choose character set for password from these : \n",
    "         1. Digits\n",
    "         2. Letters\n",
    "         3. Special characters\n",
    "         4. Exit''')\n",
    " \n",
    "characterList = \"\"\n",
    " \n",
    "# Getting character set for password\n",
    "while(True):\n",
    "    choice = int(input(\"Pick a number \"))\n",
    "    if(choice == 1):\n",
    "         \n",
    "        # Adding letters to possible characters\n",
    "        characterList += string.ascii_letters\n",
    "    elif(choice == 2):\n",
    "         \n",
    "        # Adding digits to possible characters\n",
    "        characterList += string.digits\n",
    "    elif(choice == 3):\n",
    "         \n",
    "        # Adding special characters to possible\n",
    "        # characters\n",
    "        characterList += string.punctuation\n",
    "    elif(choice == 4):\n",
    "        break\n",
    "    else:\n",
    "        print(\"Please pick a valid option!\")\n",
    " \n",
    "password = []\n",
    " \n",
    "for i in range(length):\n",
    "   \n",
    "    # Picking a random character from our \n",
    "    # character list\n",
    "    randomchar = random.choice(characterList)\n",
    "     \n",
    "    # appending a random character to password\n",
    "    password.append(randomchar)\n",
    " \n",
    "# printing password as a string\n",
    "print(\"The random password is \" + \"\".join(password))\n",
    "#geeks for geeks answer"
   ]
  },
  {
   "cell_type": "code",
   "execution_count": null,
   "id": "42a6e0fe-5c05-4a78-acbd-97ecebe3e1a5",
   "metadata": {},
   "outputs": [],
   "source": []
  }
 ],
 "metadata": {
  "kernelspec": {
   "display_name": "Python 3 (ipykernel)",
   "language": "python",
   "name": "python3"
  },
  "language_info": {
   "codemirror_mode": {
    "name": "ipython",
    "version": 3
   },
   "file_extension": ".py",
   "mimetype": "text/x-python",
   "name": "python",
   "nbconvert_exporter": "python",
   "pygments_lexer": "ipython3",
   "version": "3.11.7"
  }
 },
 "nbformat": 4,
 "nbformat_minor": 5
}
